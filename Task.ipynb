{
 "cells": [
  {
   "cell_type": "markdown",
   "metadata": {},
   "source": [
    "1. Create a function named calculate_discount(price, discount_percent) that calculates the final price after applying a discount. The function should take the original price (price) and the discount percentage (discount_percent) as parameters. If the discount is 20% or higher, apply the discount; otherwise, return the original price.\n",
    "\n",
    "2. Using the calculate_discount function, prompt the user to enter the original price of an item and the discount percentage. Print the final price after applying the discount, or if no discount was applied, print the original price.\n"
   ]
  },
  {
   "cell_type": "code",
   "execution_count": 5,
   "metadata": {},
   "outputs": [
    {
     "name": "stdout",
     "output_type": "stream",
     "text": [
      "Final price after discount:  210.0\n"
     ]
    }
   ],
   "source": [
    "def calculate_discount(price, discount_percent):\n",
    "    if discount_percent>= 20:\n",
    "        discount_amount = price * (discount_percent/100)\n",
    "        final_price = price - discount_amount\n",
    "        return final_price\n",
    "\n",
    "    else:\n",
    "        return price\n",
    "\n",
    "def main() :\n",
    "    original_price = float(input(\"Enter the original price of the item: \"))\n",
    "    discount_percent = float(input(\"Enter the discount percentage: \"))\n",
    "\n",
    "    final_price = calculate_discount(original_price,discount_percent)\n",
    "    if final_price != original_price:\n",
    "        print(\"Final price after discount: \", final_price)\n",
    "\n",
    "    else:\n",
    "        print(\"No discount applied. Original price: \", original_price)\n",
    "\n",
    "if __name__ ==\"__main__\":\n",
    "    main()\n"
   ]
  },
  {
   "cell_type": "code",
   "execution_count": null,
   "metadata": {},
   "outputs": [],
   "source": []
  },
  {
   "cell_type": "code",
   "execution_count": null,
   "metadata": {},
   "outputs": [],
   "source": []
  }
 ],
 "metadata": {
  "kernelspec": {
   "display_name": "Python 3",
   "language": "python",
   "name": "python3"
  },
  "language_info": {
   "codemirror_mode": {
    "name": "ipython",
    "version": 3
   },
   "file_extension": ".py",
   "mimetype": "text/x-python",
   "name": "python",
   "nbconvert_exporter": "python",
   "pygments_lexer": "ipython3",
   "version": "3.12.1"
  }
 },
 "nbformat": 4,
 "nbformat_minor": 2
}
